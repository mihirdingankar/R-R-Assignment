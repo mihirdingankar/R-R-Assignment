{
  "nbformat": 4,
  "nbformat_minor": 0,
  "metadata": {
    "colab": {
      "provenance": [],
      "authorship_tag": "ABX9TyOE8N73BnJ2B3FgZ5vExhtr",
      "include_colab_link": true
    },
    "kernelspec": {
      "name": "python3",
      "display_name": "Python 3"
    },
    "language_info": {
      "name": "python"
    }
  },
  "cells": [
    {
      "cell_type": "markdown",
      "metadata": {
        "id": "view-in-github",
        "colab_type": "text"
      },
      "source": [
        "<a href=\"https://colab.research.google.com/github/mihirdingankar/R-R-Assignment/blob/main/Assignment_R%26R.ipynb\" target=\"_parent\"><img src=\"https://colab.research.google.com/assets/colab-badge.svg\" alt=\"Open In Colab\"/></a>"
      ]
    },
    {
      "cell_type": "code",
      "execution_count": 2,
      "metadata": {
        "colab": {
          "base_uri": "https://localhost:8080/"
        },
        "id": "CdTCDU9bzI8B",
        "outputId": "a70efa91-788d-402e-99d4-9e955cedd28b"
      },
      "outputs": [
        {
          "output_type": "stream",
          "name": "stdout",
          "text": [
            "10/31/2023\n",
            "2*5=10\n"
          ]
        }
      ],
      "source": [
        "print(\"10/31/2023\")\n",
        "print(\"2*5=\"+str(2*5))"
      ]
    },
    {
      "cell_type": "markdown",
      "source": [
        "I think one of the most important requirements when reading a paper or using work which analyses a large amount of data is the access to the raw data itself. This allows the person using the said data to, firstly, access the raw data. Secondly, to understand the filtering used during data processing, and thirdly, to use the final filtered data in their analysis pipeline. This is especially useful if the analysis pipeline uses multiple files of different types during the analysis.\n",
        "A further useful addition, is the availability of the code/software packages used in the analysis of this data. A combination of these two elements allows the experimenter to exactly reproduce the analysis of the publishing group on the experimenters system. This provides two main advantages: Firstly, it provides the experimenter a benchmark to compare the resuts of their analysis with, and secondly, it informs the experimenter about the duration it takes to run the analysis package on their specific system specification and if the code requires optimization to run faster on specific systems. Lastly, tracking changes in the code when coupled with comments regarding the rationale behind specific steps, helps to understand the changing thought process as well as allows the reverse enginnering of certain steps to solve related problems. On a more synical note, identification of arbitrary changes could help locate manipulations made by the publishing group to get \"desired\" results."
      ],
      "metadata": {
        "id": "oSosfEcJ2fWT"
      }
    }
  ]
}